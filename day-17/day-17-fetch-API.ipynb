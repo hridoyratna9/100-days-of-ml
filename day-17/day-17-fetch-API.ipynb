{
 "cells": [
  {
   "cell_type": "markdown",
   "id": "b5d4f7a8-5459-4fd2-8a64-9ec5d50b3ac3",
   "metadata": {},
   "source": [
    "### What is API?\n",
    "<p>API means : Application Programming Interface</p>\n",
    "<p>Defination : API connect two software for building communication between them</p>"
   ]
  },
  {
   "cell_type": "code",
   "execution_count": 1,
   "id": "62989717-d0f5-4e0f-8508-e667afca88d8",
   "metadata": {},
   "outputs": [
    {
     "name": "stdout",
     "output_type": "stream",
     "text": [
      "{\"status_code\":7,\"status_message\":\"Invalid API key: You must be granted a valid key.\",\"success\":false}\n",
      "\n"
     ]
    }
   ],
   "source": [
    "import requests\n",
    "\n",
    "url = \"https://api.themoviedb.org/3/keyword/keyword_id/movies?include_adult=false&language=en-US&page=1\"\n",
    "\n",
    "headers = {\"accept\": \"application/json\"}\n",
    "\n",
    "response = requests.get(url, headers=headers)\n",
    "\n",
    "print(response.text)"
   ]
  },
  {
   "cell_type": "code",
   "execution_count": null,
   "id": "864f75b8-eefa-4771-9a9a-e5e4b31b5307",
   "metadata": {},
   "outputs": [],
   "source": []
  },
  {
   "cell_type": "code",
   "execution_count": null,
   "id": "c8c9660e-1008-435b-87fb-af357d88102a",
   "metadata": {},
   "outputs": [],
   "source": []
  },
  {
   "cell_type": "code",
   "execution_count": null,
   "id": "92cd9f01-a237-4bee-8b58-1dde9947c025",
   "metadata": {},
   "outputs": [],
   "source": []
  }
 ],
 "metadata": {
  "kernelspec": {
   "display_name": "Python 3 (ipykernel)",
   "language": "python",
   "name": "python3"
  },
  "language_info": {
   "codemirror_mode": {
    "name": "ipython",
    "version": 3
   },
   "file_extension": ".py",
   "mimetype": "text/x-python",
   "name": "python",
   "nbconvert_exporter": "python",
   "pygments_lexer": "ipython3",
   "version": "3.12.7"
  }
 },
 "nbformat": 4,
 "nbformat_minor": 5
}
